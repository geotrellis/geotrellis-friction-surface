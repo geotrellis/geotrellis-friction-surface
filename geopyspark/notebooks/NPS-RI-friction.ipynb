{
 "cells": [
  {
   "cell_type": "markdown",
   "metadata": {},
   "source": [
    "# Calculating the Friction Surface for Rhode Island"
   ]
  },
  {
   "cell_type": "code",
   "execution_count": null,
   "metadata": {
    "collapsed": true
   },
   "outputs": [],
   "source": [
    "import geopyspark as gps\n",
    "import numpy as np\n",
    "import pyproj\n",
    "import fiona\n",
    "\n",
    "from functools import partial\n",
    "from shapely.geometry import shape, MultiPoint, MultiLineString\n",
    "from shapely.ops import transform\n",
    "from pyspark import SparkContext, StorageLevel\n",
    "from pyspark.sql import SparkSession\n",
    "from geonotebook.wrappers import VectorData, TMSRasterData\n",
    "\n",
    "conf = gps.geopyspark_conf(appName=\"gps-osm-ingest\", master='yarn')\n",
    "conf.set('spark.ui.enabled', True)\n",
    "\n",
    "sc = SparkContext(conf=conf)\n",
    "\n",
    "hadoopConf = sc._jsc.hadoopConfiguration()\n",
    "hadoopConf.set(\"fs.s3.impl\", \"org.apache.hadoop.fs.s3native.NativeS3FileSystem\")\n",
    "hadoopConf.set(\"fs.s3.awsAccessKeyId\", 'your_access_key')\n",
    "hadoopConf.set(\"fs.s3.awsSecretAccessKey\", 'your_secret_key')\n",
    "\n",
    "pysc = gps.get_spark_context()\n",
    "session = SparkSession.builder.config(conf=pysc.getConf()).enableHiveSupport().getOrCreate()"
   ]
  },
  {
   "cell_type": "code",
   "execution_count": null,
   "metadata": {
    "collapsed": true
   },
   "outputs": [],
   "source": [
    "M.set_center(-71.88333333333334, 41.15, 8)"
   ]
  },
  {
   "cell_type": "code",
   "execution_count": null,
   "metadata": {
    "collapsed": true
   },
   "outputs": [],
   "source": [
    "rhode_island_extent = gps.Extent(-71.88333333333334, 41.15, -71.11666666666666, 42.016666666666666)"
   ]
  },
  {
   "cell_type": "markdown",
   "metadata": {},
   "source": [
    "## Calculating the Friction Surface From OSM, NLCD, NHD, and NED Data"
   ]
  },
  {
   "cell_type": "markdown",
   "metadata": {},
   "source": [
    "### Reading and Formatting the OSM Data"
   ]
  },
  {
   "cell_type": "code",
   "execution_count": null,
   "metadata": {
    "collapsed": true,
    "scrolled": true
   },
   "outputs": [],
   "source": [
    "# Download the orc file from S3\n",
    "\n",
    "!curl -o /tmp/rhode-island.orc https://s3.amazonaws.com/geotrellis-test/xterrain/rhode-island.orc"
   ]
  },
  {
   "cell_type": "code",
   "execution_count": null,
   "metadata": {
    "collapsed": true
   },
   "outputs": [],
   "source": [
    "# This cell contains the logic that assigns each section of road a\n",
    "# speed based on the type of road that section is.\n",
    "\n",
    "default_speeds = {\n",
    "'motorway':65,\n",
    "'trunk':45,\n",
    "'primary':40,\n",
    "'secondary':35,\n",
    "'tertiary':30,\n",
    "'unclassified':20,\n",
    "'residential':20,\n",
    "'service':15,\n",
    "'motorway_link':45,\n",
    "'trunk_link':40,\n",
    "'primary_link':35,\n",
    "'secondary_link':30,\n",
    "'tertiary_link':25,\n",
    "'living_street':5,\n",
    "'pedestrian':5,\n",
    "'track':15,\n",
    "'road':20}\n",
    "\n",
    "words = ['maxspeed', 'ambiguous', 'signals', \n",
    "         'none', 'walk', 'variable', \n",
    "         'national', 'fixme', 'unposted', 'implicit']\n",
    "\n",
    "def is_number(s):\n",
    "    try:\n",
    "        float(s)\n",
    "        return True\n",
    "    except ValueError:\n",
    "        return False\n",
    "\n",
    "def default_speed(highway):\n",
    "    if not highway in default_speeds:\n",
    "        return default_speeds['road']\n",
    "    else:\n",
    "        return default_speeds[highway]\n",
    "\n",
    "def get_maxspeed(speed, units, highway):\n",
    "    speeds = speed.split(';|,-')\n",
    "    maxspeed = 0\n",
    "    for sp in speeds:\n",
    "        sp = sp.replace(units, '')\n",
    "        if (is_number(sp)):\n",
    "            if units == 'kph':\n",
    "                sp = float(sp) / 1.609344 \n",
    "            elif units == 'knots':\n",
    "                sp = 0.868976 * float(knots)\n",
    "            else:\n",
    "                sp = float(sp)\n",
    "                \n",
    "            if sp > maxspeed:\n",
    "                maxspeed = sp\n",
    "    if maxspeed > 0:\n",
    "        speed = maxspeed\n",
    "    else:\n",
    "        speed = default_speed(highway)\n",
    "\n",
    "    return speed\n",
    "\n",
    "def get_highway_cellvalue(osm_feature):   \n",
    "    highway = osm_feature.properties.tags['highway']\n",
    "    speed = osm_feature.properties.tags.get('maxspeed', '')\n",
    "                                \n",
    "    speed = speed.lower().strip()\n",
    "        \n",
    "    # if we don't have a speed, give it a default\n",
    "    if len(speed) == 0:\n",
    "        speed = default_speed(highway)\n",
    "    elif not is_number(speed):\n",
    "        if 'kph' in speed:\n",
    "            speed = get_maxspeed(speed, 'kph', highway)\n",
    "        elif 'km/h' in speed:\n",
    "            speed = get_maxspeed(speed, 'km/h', highway)\n",
    "        elif 'kmh' in speed:\n",
    "            speed = get_maxspeed(speed, 'kmh', highway)\n",
    "        elif 'mph' in speed:\n",
    "            speed = get_maxspeed(speed, 'mph', highway)\n",
    "        elif 'knots' in speed:\n",
    "            speed = get_maxspeed(speed, 'knots', highway)\n",
    "        elif speed in words:\n",
    "            speed = default_speed(highway)\n",
    "        else:\n",
    "            speed = get_maxspeed(speed, '', highway)            \n",
    "    if float(speed) <= 0.0:\n",
    "        speed = default_speed(highway)\n",
    "\n",
    "    speed = float(speed)\n",
    "    return gps.CellValue(speed, speed)"
   ]
  },
  {
   "cell_type": "code",
   "execution_count": null,
   "metadata": {
    "collapsed": true
   },
   "outputs": [],
   "source": [
    "file_uri = \"s3://geotrellis-test/xterrain/rhode-island.orc\"\n",
    "osm_dataframe = session.read.orc(file_uri)"
   ]
  },
  {
   "cell_type": "code",
   "execution_count": null,
   "metadata": {
    "collapsed": true
   },
   "outputs": [],
   "source": [
    "# Get all of the lines that are contained within the DataFrame\n",
    "\n",
    "osm = gps.vector_pipe.osm_reader.from_dataframe(osm_dataframe)\n",
    "lines = osm.get_line_features_rdd()"
   ]
  },
  {
   "cell_type": "code",
   "execution_count": null,
   "metadata": {
    "collapsed": true
   },
   "outputs": [],
   "source": [
    "# Only roads/paths are of interest\n",
    "highways = lines.filter(lambda feature: 'highway' in feature.properties.tags)"
   ]
  },
  {
   "cell_type": "code",
   "execution_count": null,
   "metadata": {
    "collapsed": true
   },
   "outputs": [],
   "source": [
    "path_tags = ['footway', 'steps', 'bridleway', 'path']\n",
    "\n",
    "# Filter out the highways into roads and paths\n",
    "\n",
    "roads = highways.filter(lambda feature: feature.properties.tags['highway'] not in path_tags)\n",
    "paths = highways.filter(lambda feature: feature.properties.tags['highway'] in path_tags)"
   ]
  },
  {
   "cell_type": "code",
   "execution_count": null,
   "metadata": {
    "collapsed": true
   },
   "outputs": [],
   "source": [
    "path_features = paths.map(lambda feature: gps.Feature(feature.geometry, gps.CellValue(3.74, 3.74)))"
   ]
  },
  {
   "cell_type": "code",
   "execution_count": null,
   "metadata": {
    "collapsed": true
   },
   "outputs": [],
   "source": [
    "# Encode the road speeds as feature properties for rasterization\n",
    "road_features = roads.map(lambda feature: gps.Feature(feature.geometry, get_highway_cellvalue(feature)))"
   ]
  },
  {
   "cell_type": "code",
   "execution_count": null,
   "metadata": {
    "collapsed": true
   },
   "outputs": [],
   "source": [
    "road_raster = gps.geotrellis.rasterize_features(\n",
    "    features = road_features,\n",
    "    crs = 4326,\n",
    "    zoom = 10,\n",
    "    cell_type=gps.CellType.INT8RAW,\n",
    "    partition_strategy = gps.SpatialPartitionStrategy(32)\n",
    ").convert_data_type(gps.CellType.FLOAT32, -2147483648.0)"
   ]
  },
  {
   "cell_type": "code",
   "execution_count": null,
   "metadata": {
    "collapsed": true
   },
   "outputs": [],
   "source": [
    "path_raster = gps.geotrellis.rasterize_features(\n",
    "    features = path_features,\n",
    "    crs = 4326,\n",
    "    zoom = 10,\n",
    "    cell_type=gps.CellType.INT8RAW,\n",
    "    partition_strategy = gps.SpatialPartitionStrategy(32)\n",
    ").convert_data_type(gps.CellType.FLOAT32, -2147483648.0)"
   ]
  },
  {
   "cell_type": "code",
   "execution_count": null,
   "metadata": {
    "collapsed": true
   },
   "outputs": [],
   "source": [
    "tiled_path_raster = path_raster.tile_to_layout(road_raster.layer_metadata)"
   ]
  },
  {
   "cell_type": "markdown",
   "metadata": {},
   "source": [
    "### Displaying the Rasterized Roads"
   ]
  },
  {
   "cell_type": "code",
   "execution_count": null,
   "metadata": {
    "collapsed": true,
    "scrolled": true
   },
   "outputs": [],
   "source": [
    "color_map = gps.ColorMap.from_colors(\n",
    "    breaks = np.arange(8, 100, 4), \n",
    "    color_list = gps.get_colors_from_matplotlib('magma'))\n",
    "\n",
    "osm_wm = road_raster.tile_to_layout(gps.GlobalLayout(tile_size=256), target_crs=3857)\n",
    "\n",
    "layer = gps.TMS.build(osm_wm.pyramid(), color_map)\n",
    "M.add_layer(TMSRasterData(layer), name=\"OSM-roads\")"
   ]
  },
  {
   "cell_type": "code",
   "execution_count": null,
   "metadata": {
    "collapsed": true
   },
   "outputs": [],
   "source": [
    "M.remove_layer(M.layers[0])"
   ]
  },
  {
   "cell_type": "markdown",
   "metadata": {},
   "source": [
    "### Reading and Formatting the NLCD Data"
   ]
  },
  {
   "cell_type": "code",
   "execution_count": null,
   "metadata": {
    "collapsed": true
   },
   "outputs": [],
   "source": [
    "nlcd_pmts_map = {\n",
    "    11.0: 0.0,\n",
    "    12.0: 0.15,\n",
    "    21.0: 0.9,\n",
    "    22.0: 0.9,\n",
    "    23.0: 0.9,\n",
    "    24.0: 0.95,\n",
    "    31.0: 0.1,\n",
    "    41.0: 0.7,\n",
    "    42.0: 0.65,\n",
    "    43.0: 0.75,\n",
    "    51.0: 0.75,\n",
    "    52.0: 0.75,\n",
    "    71.0: 0.8,\n",
    "    81.0: 0.8,\n",
    "    82.0: 0.8,\n",
    "    90.0: 0.2,\n",
    "    95.0: 0.25\n",
    "}"
   ]
  },
  {
   "cell_type": "code",
   "execution_count": null,
   "metadata": {
    "collapsed": true
   },
   "outputs": [],
   "source": [
    "# Reading NLCD Data\n",
    "nlcd = gps.geotiff.get(gps.LayerType.SPATIAL, \"s3://gt-rasters/nlcd/2011/tiles\", crs=\"epsg:4326\", max_tile_size=256, num_partitions=32)\n",
    "\n",
    "# Tile NLCD layer to same layout as rasterized OSM features\n",
    "tiled_nlcd = nlcd.tile_to_layout(road_raster.layer_metadata, partition_strategy=gps.SpatialPartitionStrategy(32))\n",
    "\n",
    "masked_nlcd = tiled_nlcd.mask(rhode_island_extent.to_polygon)"
   ]
  },
  {
   "cell_type": "code",
   "execution_count": null,
   "metadata": {
    "collapsed": true
   },
   "outputs": [],
   "source": [
    "nlcd_pmts = masked_nlcd.reclassify(value_map=nlcd_pmts_map,\n",
    "                                   data_type=float,\n",
    "                                   classification_strategy=gps.ClassificationStrategy.EXACT\n",
    "                                  ).convert_data_type(gps.CellType.FLOAT32, 0.0)"
   ]
  },
  {
   "cell_type": "markdown",
   "metadata": {},
   "source": [
    "### Displaying the NLCD Data"
   ]
  },
  {
   "cell_type": "code",
   "execution_count": null,
   "metadata": {
    "collapsed": true
   },
   "outputs": [],
   "source": [
    "nlcd_tms = nlcd_pmts.tile_to_layout(gps.GlobalLayout(tile_size=256), target_crs=3857)\n",
    "\n",
    "color_map = gps.ColorMap.build(nlcd_tms.get_histogram(), 'magma')\n",
    "\n",
    "layer = gps.TMS.build(nlcd_tms.pyramid(), color_map)\n",
    "M.add_layer(TMSRasterData(layer), name=\"NLCD-Data\")"
   ]
  },
  {
   "cell_type": "code",
   "execution_count": null,
   "metadata": {
    "collapsed": true,
    "scrolled": false
   },
   "outputs": [],
   "source": [
    "M.remove_layer(M.layers[0])"
   ]
  },
  {
   "cell_type": "markdown",
   "metadata": {},
   "source": [
    "### Reading and Formatting the NHD Data"
   ]
  },
  {
   "cell_type": "code",
   "execution_count": null,
   "metadata": {
    "collapsed": true
   },
   "outputs": [],
   "source": [
    "nhd_pmts_map = {\n",
    "    0: 0.0,\n",
    "    1: 0.7,\n",
    "    2: 0.6,\n",
    "    3: 0.5,\n",
    "    4: 0.3,\n",
    "    5: 0.2,\n",
    "    6: 0.1\n",
    "}\n",
    "\n",
    "def assign_nhd_cell_values(order):\n",
    "    pmt = nhd_pmts_map[order]\n",
    "    return gps.CellValue(pmt, pmt)"
   ]
  },
  {
   "cell_type": "code",
   "execution_count": null,
   "metadata": {
    "collapsed": true
   },
   "outputs": [],
   "source": [
    "nhd = gps.shapefile.get(\"s3://geotrellis-test/jpolchlopek/NHDPlus/NHDPlus_H_0109/NHDFlowlines.shp\").filter(lambda feat: 'n.FType' in feat.properties and (feat.properties['n.FType'] == '336' or feat.properties['n.FType'] == '460'))"
   ]
  },
  {
   "cell_type": "code",
   "execution_count": null,
   "metadata": {
    "collapsed": true
   },
   "outputs": [],
   "source": [
    "nhd_filt_features = nhd.flatMap(lambda feat: \n",
    "    [gps.Feature(feat.geometry, assign_nhd_cell_values(int(feat.properties['p.StreamOr'])))] if 'p.StreamOr' in feat.properties and feat.properties['p.StreamOr'] and int(feat.properties['p.StreamOr']) >= 0 else []\n",
    ")"
   ]
  },
  {
   "cell_type": "code",
   "execution_count": null,
   "metadata": {
    "collapsed": true
   },
   "outputs": [],
   "source": [
    "nhd_raster = gps.geotrellis.rasterize_features(\n",
    "    features = nhd_filt_features,\n",
    "    crs = 4326,\n",
    "    zoom = 10,\n",
    "    cell_type=gps.CellType.FLOAT32RAW,\n",
    "    partition_strategy = gps.SpatialPartitionStrategy(32)\n",
    ")"
   ]
  },
  {
   "cell_type": "code",
   "execution_count": null,
   "metadata": {
    "collapsed": true
   },
   "outputs": [],
   "source": [
    "tiled_nhd = nhd_raster.tile_to_layout(road_raster.layer_metadata, partition_strategy=gps.SpatialPartitionStrategy(32))"
   ]
  },
  {
   "cell_type": "code",
   "execution_count": null,
   "metadata": {
    "collapsed": true
   },
   "outputs": [],
   "source": [
    "masked_nhd = tiled_nhd.mask(rhode_island_extent.to_polygon, partition_strategy=gps.SpatialPartitionStrategy(32))"
   ]
  },
  {
   "cell_type": "markdown",
   "metadata": {},
   "source": [
    "### Displaying the Rasterized NHD Features"
   ]
  },
  {
   "cell_type": "code",
   "execution_count": null,
   "metadata": {
    "collapsed": true
   },
   "outputs": [],
   "source": [
    "color_map = gps.ColorMap.from_colors(\n",
    "    breaks = np.arange(0.1, 1.0, 0.1), \n",
    "    color_list = gps.get_colors_from_matplotlib('magma'))\n",
    "\n",
    "tsm_nhd = masked_nhd.tile_to_layout(gps.GlobalLayout(tile_size=256), target_crs=3857)\n",
    "\n",
    "#layer = gps.TMS.build(tsm_nhd.convert_data_type(gps.CellType.FLOAT32, 0.0).pyramid(), color_map)\n",
    "layer = gps.TMS.build(tsm_nhd.pyramid(), color_map)\n",
    "\n",
    "M.add_layer(TMSRasterData(layer), name=\"NHD-DATA\")"
   ]
  },
  {
   "cell_type": "code",
   "execution_count": null,
   "metadata": {
    "collapsed": true,
    "scrolled": false
   },
   "outputs": [],
   "source": [
    "M.remove_layer(M.layers[0])"
   ]
  },
  {
   "cell_type": "markdown",
   "metadata": {},
   "source": [
    "### Reading and Formatting the NED Data"
   ]
  },
  {
   "cell_type": "code",
   "execution_count": null,
   "metadata": {
    "collapsed": true
   },
   "outputs": [],
   "source": [
    "ned_location = 's3://azavea-datahub/raw/ned-13arcsec-geotiff/'\n",
    "ned_files = ['{}imgn{}w0{}_13.tif'.format(ned_location, n, e) for n in [41, 42, 43] for e in [71, 72]]"
   ]
  },
  {
   "cell_type": "code",
   "execution_count": null,
   "metadata": {
    "collapsed": true
   },
   "outputs": [],
   "source": [
    "ned_raw = gps.geotiff.get(gps.LayerType.SPATIAL, ned_files, num_partitions=32, max_tile_size=256)"
   ]
  },
  {
   "cell_type": "code",
   "execution_count": null,
   "metadata": {
    "collapsed": true
   },
   "outputs": [],
   "source": [
    "tiled_ned = ned_raw.tile_to_layout(road_raster.layer_metadata, partition_strategy=gps.SpatialPartitionStrategy(32))\n",
    "masked_ned = tiled_ned.mask(rhode_island_extent.to_polygon, partition_strategy=gps.SpatialPartitionStrategy(32)).convert_data_type(gps.CellType.FLOAT32, 0.0)"
   ]
  },
  {
   "cell_type": "markdown",
   "metadata": {},
   "source": [
    "### Displaying the NED Data"
   ]
  },
  {
   "cell_type": "code",
   "execution_count": null,
   "metadata": {
    "collapsed": true
   },
   "outputs": [],
   "source": [
    "ned_tms = masked_ned.tile_to_layout(gps.GlobalLayout(tile_size=256), target_crs=3857)\n",
    "\n",
    "color_map = gps.ColorMap.build(ned_tms.get_histogram(), 'magma')\n",
    "\n",
    "layer = gps.TMS.build(ned_tms.pyramid(), color_map)\n",
    "M.add_layer(TMSRasterData(layer), name=\"NED-Data\")"
   ]
  },
  {
   "cell_type": "code",
   "execution_count": null,
   "metadata": {
    "collapsed": true,
    "scrolled": false
   },
   "outputs": [],
   "source": [
    "M.remove_layer(M.layers[0])"
   ]
  },
  {
   "cell_type": "markdown",
   "metadata": {},
   "source": [
    "### Caculating Tobler Walking Speeds"
   ]
  },
  {
   "cell_type": "code",
   "execution_count": null,
   "metadata": {
    "collapsed": true
   },
   "outputs": [],
   "source": [
    "zfactor = gps.geotrellis.zfactor_lat_lng_calculator('Meters')\n",
    "slope_raster = masked_ned.slope(zfactor)"
   ]
  },
  {
   "cell_type": "code",
   "execution_count": null,
   "metadata": {
    "collapsed": true,
    "scrolled": true
   },
   "outputs": [],
   "source": [
    "tobler_raster = slope_raster.tobler()\n",
    "adjusted_tobler = (tobler_raster + tiled_nhd + nlcd_pmts) - tiled_path_raster"
   ]
  },
  {
   "cell_type": "code",
   "execution_count": null,
   "metadata": {
    "collapsed": true
   },
   "outputs": [],
   "source": [
    "friction_with_roads = adjusted_tobler.local_max(road_raster)"
   ]
  },
  {
   "cell_type": "code",
   "execution_count": null,
   "metadata": {
    "collapsed": true
   },
   "outputs": [],
   "source": [
    "reprojected = friction_with_roads.tile_to_layout(\n",
    "    target_crs = 3857,\n",
    "    layout = gps.GlobalLayout(tile_size=256),\n",
    "    resample_method = gps.ResampleMethod.MAX\n",
    ").convert_data_type(gps.CellType.FLOAT32, 0.0)"
   ]
  },
  {
   "cell_type": "code",
   "execution_count": null,
   "metadata": {
    "collapsed": true
   },
   "outputs": [],
   "source": [
    "pyramid = reprojected.pyramid(partition_strategy=gps.SpatialPartitionStrategy(32))"
   ]
  },
  {
   "cell_type": "markdown",
   "metadata": {},
   "source": [
    "### Displaying the Fricition Layer"
   ]
  },
  {
   "cell_type": "code",
   "execution_count": null,
   "metadata": {
    "collapsed": true,
    "scrolled": true
   },
   "outputs": [],
   "source": [
    "# Building the color map from the histogram of the pyramid\n",
    "hist_color_map = gps.ColorMap.build(pyramid.get_histogram(), 'magma')\n",
    "hist_layer = gps.TMS.build(pyramid, hist_color_map)\n",
    "\n",
    "M.add_layer(TMSRasterData(hist_layer), name=\"ToblerOSM-from-hist\")"
   ]
  },
  {
   "cell_type": "code",
   "execution_count": null,
   "metadata": {
    "collapsed": true,
    "scrolled": true
   },
   "outputs": [],
   "source": [
    "M.remove_layer(M.layers[0])"
   ]
  },
  {
   "cell_type": "markdown",
   "metadata": {
    "collapsed": true
   },
   "source": [
    "## Calulating Cost Distance Using the Tobler Layer"
   ]
  },
  {
   "cell_type": "markdown",
   "metadata": {},
   "source": [
    "### Reading and Formatting Rhode Island Points"
   ]
  },
  {
   "cell_type": "code",
   "execution_count": null,
   "metadata": {
    "collapsed": false
   },
   "outputs": [],
   "source": [
    "# Downloads the RI points from S3\n",
    "\n",
    "!curl -o /tmp/ri-points.geojson https://s3.amazonaws.com/geotrellis-test/xterrain/ri-points.geojson"
   ]
  },
  {
   "cell_type": "code",
   "execution_count": null,
   "metadata": {
    "collapsed": true
   },
   "outputs": [],
   "source": [
    "with fiona.open(\"ri-points.geojson\") as source:\n",
    "    pop_centers = [shape(f['geometry']) for f in source]"
   ]
  },
  {
   "cell_type": "code",
   "execution_count": null,
   "metadata": {
    "collapsed": true
   },
   "outputs": [],
   "source": [
    "project = partial(\n",
    "    pyproj.transform,\n",
    "    pyproj.Proj(init='epsg:4326'),\n",
    "    pyproj.Proj(init='epsg:3857'))\n",
    "\n",
    "reprojected_pop_centers = [transform(project, geom) for geom in pop_centers]"
   ]
  },
  {
   "cell_type": "markdown",
   "metadata": {},
   "source": [
    "### Calculating Cost Distance"
   ]
  },
  {
   "cell_type": "code",
   "execution_count": null,
   "metadata": {
    "collapsed": true
   },
   "outputs": [],
   "source": [
    "cost_distance = gps.cost_distance(3.74 / reprojected,\n",
    "                                  reprojected_pop_centers,\n",
    "                                  100000.0)"
   ]
  },
  {
   "cell_type": "code",
   "execution_count": null,
   "metadata": {
    "collapsed": true
   },
   "outputs": [],
   "source": [
    "cd_pyramid = cost_distance.pyramid()"
   ]
  },
  {
   "cell_type": "markdown",
   "metadata": {},
   "source": [
    "### Displaying Cost Distance and the Points"
   ]
  },
  {
   "cell_type": "code",
   "execution_count": null,
   "metadata": {
    "collapsed": true
   },
   "outputs": [],
   "source": [
    "cd_color_map = gps.ColorMap.build(cd_pyramid.get_histogram(), 'viridis')\n",
    "cd_layer = gps.TMS.build(cd_pyramid, cd_color_map)\n",
    "\n",
    "M.add_layer(TMSRasterData(cd_layer), name=\"ToblerOSM-cost-distance\")"
   ]
  },
  {
   "cell_type": "code",
   "execution_count": null,
   "metadata": {
    "collapsed": true
   },
   "outputs": [],
   "source": [
    "M.add_layer(VectorData(\"ri-points.geojson\"),\n",
    "            name=\"Manx Population Centers\",\n",
    "            colors=[0xff0000])"
   ]
  },
  {
   "cell_type": "code",
   "execution_count": null,
   "metadata": {
    "collapsed": true
   },
   "outputs": [],
   "source": [
    "x = 0\n",
    "while x < len(M.layers):\n",
    "    M.remove_layer(M.layers[x])\n",
    "    x += 1"
   ]
  }
 ],
 "metadata": {
  "kernelspec": {
   "display_name": "Geonotebook (Python 3)",
   "language": "python",
   "name": "geonotebook3"
  },
  "language_info": {
   "codemirror_mode": {
    "name": "ipython",
    "version": 3
   },
   "file_extension": ".py",
   "mimetype": "text/x-python",
   "name": "python",
   "nbconvert_exporter": "python",
   "pygments_lexer": "ipython3",
   "version": "3.5.1+"
  }
 },
 "nbformat": 4,
 "nbformat_minor": 2
}
